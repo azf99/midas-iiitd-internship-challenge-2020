{
 "cells": [
  {
   "cell_type": "code",
   "execution_count": 1,
   "metadata": {},
   "outputs": [
    {
     "name": "stdout",
     "output_type": "stream",
     "text": [
      "Requirement already satisfied: praw in c:\\users\\azfar\\anaconda3\\envs\\atneva2\\lib\\site-packages (6.5.1)\n",
      "Requirement already satisfied: numpy in c:\\users\\azfar\\anaconda3\\envs\\atneva2\\lib\\site-packages (1.18.1)\n",
      "Requirement already satisfied: pandas in c:\\users\\azfar\\anaconda3\\envs\\atneva2\\lib\\site-packages (0.25.3)\n",
      "Requirement already satisfied: tqdm in c:\\users\\azfar\\anaconda3\\envs\\atneva2\\lib\\site-packages (4.45.0)\n",
      "Requirement already satisfied: update-checker>=0.16 in c:\\users\\azfar\\anaconda3\\envs\\atneva2\\lib\\site-packages (from praw) (0.16)\n",
      "Requirement already satisfied: websocket-client>=0.54.0 in c:\\users\\azfar\\anaconda3\\envs\\atneva2\\lib\\site-packages (from praw) (0.57.0)\n",
      "Requirement already satisfied: prawcore<2.0,>=1.0.1 in c:\\users\\azfar\\anaconda3\\envs\\atneva2\\lib\\site-packages (from praw) (1.0.1)\n",
      "Requirement already satisfied: python-dateutil>=2.6.1 in c:\\users\\azfar\\anaconda3\\envs\\atneva2\\lib\\site-packages (from pandas) (2.8.1)\n",
      "Requirement already satisfied: pytz>=2017.2 in c:\\users\\azfar\\anaconda3\\envs\\atneva2\\lib\\site-packages (from pandas) (2019.3)\n",
      "Requirement already satisfied: requests>=2.3.0 in c:\\users\\azfar\\anaconda3\\envs\\atneva2\\lib\\site-packages (from update-checker>=0.16->praw) (2.22.0)\n",
      "Requirement already satisfied: six in c:\\users\\azfar\\anaconda3\\envs\\atneva2\\lib\\site-packages (from websocket-client>=0.54.0->praw) (1.13.0)\n",
      "Requirement already satisfied: certifi>=2017.4.17 in c:\\users\\azfar\\anaconda3\\envs\\atneva2\\lib\\site-packages (from requests>=2.3.0->update-checker>=0.16->praw) (2019.11.28)\n",
      "Requirement already satisfied: chardet<3.1.0,>=3.0.2 in c:\\users\\azfar\\anaconda3\\envs\\atneva2\\lib\\site-packages (from requests>=2.3.0->update-checker>=0.16->praw) (3.0.4)\n",
      "Requirement already satisfied: idna<2.9,>=2.5 in c:\\users\\azfar\\anaconda3\\envs\\atneva2\\lib\\site-packages (from requests>=2.3.0->update-checker>=0.16->praw) (2.8)\n",
      "Requirement already satisfied: urllib3!=1.25.0,!=1.25.1,<1.26,>=1.21.1 in c:\\users\\azfar\\anaconda3\\envs\\atneva2\\lib\\site-packages (from requests>=2.3.0->update-checker>=0.16->praw) (1.25.7)\n"
     ]
    }
   ],
   "source": [
    "!pip install praw pandas tqdm"
   ]
  },
  {
   "cell_type": "code",
   "execution_count": 1,
   "metadata": {},
   "outputs": [],
   "source": [
    "import praw  #Reddit API for fetching data\n",
    "import pandas as pd\n",
    "import os\n",
    "import numpy as np\n",
    "from tqdm import tqdm  #for progress bars"
   ]
  },
  {
   "cell_type": "code",
   "execution_count": 2,
   "metadata": {},
   "outputs": [],
   "source": [
    "### Creating an object by signing in to the app that we've created\n",
    "\n",
    "reddit=praw.Reddit(\n",
    "                   client_id='wzbeY1mKdm2ynw',\n",
    "                   client_secret='4qoywWZTD13cIUiygWuxA1o6fUs',\n",
    "                   user_agent='data_scrape',\n",
    "                   username='azf99',\n",
    "                   password='Reddit_Scrape'\n",
    "                  )"
   ]
  },
  {
   "cell_type": "code",
   "execution_count": 7,
   "metadata": {},
   "outputs": [
    {
     "name": "stdout",
     "output_type": "stream",
     "text": [
      "Number of flairs we are searching for=  12\n"
     ]
    }
   ],
   "source": [
    "# Selecting the Subreddit as \"india\"\n",
    "subreddit = reddit.subreddit('india')\n",
    "\n",
    "# Dictionary for storing the datapoints\n",
    "topics = {\"flair\":[],\n",
    "          \"title\":[],\n",
    "          \"score\":[],\n",
    "          \"id\":[],\n",
    "          \"url\":[],\n",
    "          \"comms_num\": [],\n",
    "          \"created\": [],\n",
    "          \"body\":[],\n",
    "          \"author\":[]\n",
    "         }\n",
    "\n",
    "# Flairs that we are going to search posts related to\n",
    "flairs = [\"AskIndia\", \"Non-Political\", \"[R]eddiquette\", \"Scheduled\",\n",
    "          \"Photography\", \"Science/Technology\", \"Politics\", \"Business/Finance\",\n",
    "          \"Policy/Economy\", \"Sports\", \"Food\", \"AMA\"]\n",
    "\n",
    "print(\"Number of flairs we are searching for= \", len(flairs))"
   ]
  },
  {
   "cell_type": "code",
   "execution_count": 8,
   "metadata": {},
   "outputs": [
    {
     "name": "stderr",
     "output_type": "stream",
     "text": [
      "100%|██████████████████████████████████████████████████████████████████████████████████| 12/12 [01:42<00:00,  8.58s/it]\n"
     ]
    }
   ],
   "source": [
    "# Looping over all the flair and fetching different datapoints for posts regarding each flair\n",
    "\n",
    "for flair in tqdm(flairs):\n",
    "  \n",
    "  get_subreddits = subreddit.search(flair, limit = 1000)\n",
    "  \n",
    "  for submission in get_subreddits:\n",
    "    \n",
    "    topics[\"flair\"].append(flair)\n",
    "    topics[\"title\"].append(submission.title)\n",
    "    topics[\"score\"].append(submission.score)\n",
    "    topics[\"id\"].append(submission.id)\n",
    "    topics[\"url\"].append(submission.url)\n",
    "    topics[\"comms_num\"].append(submission.num_comments)\n",
    "    topics[\"created\"].append(submission.created)\n",
    "    topics[\"body\"].append(submission.selftext)\n",
    "    topics[\"author\"].append(submission.author)"
   ]
  },
  {
   "cell_type": "code",
   "execution_count": 18,
   "metadata": {},
   "outputs": [
    {
     "data": {
      "text/html": [
       "<div>\n",
       "<style scoped>\n",
       "    .dataframe tbody tr th:only-of-type {\n",
       "        vertical-align: middle;\n",
       "    }\n",
       "\n",
       "    .dataframe tbody tr th {\n",
       "        vertical-align: top;\n",
       "    }\n",
       "\n",
       "    .dataframe thead th {\n",
       "        text-align: right;\n",
       "    }\n",
       "</style>\n",
       "<table border=\"1\" class=\"dataframe\">\n",
       "  <thead>\n",
       "    <tr style=\"text-align: right;\">\n",
       "      <th></th>\n",
       "      <th>flair</th>\n",
       "      <th>title</th>\n",
       "      <th>score</th>\n",
       "      <th>id</th>\n",
       "      <th>url</th>\n",
       "      <th>comms_num</th>\n",
       "      <th>created</th>\n",
       "      <th>body</th>\n",
       "      <th>author</th>\n",
       "    </tr>\n",
       "  </thead>\n",
       "  <tbody>\n",
       "    <tr>\n",
       "      <th>0</th>\n",
       "      <td>AskIndia</td>\n",
       "      <td>Randians who were big time users of dating app...</td>\n",
       "      <td>20</td>\n",
       "      <td>fizkkk</td>\n",
       "      <td>https://www.reddit.com/r/india/comments/fizkkk...</td>\n",
       "      <td>19</td>\n",
       "      <td>1.584298e+09</td>\n",
       "      <td>I'd my own stint with these apps(a couple of m...</td>\n",
       "      <td>__knockknockturnal__</td>\n",
       "    </tr>\n",
       "    <tr>\n",
       "      <th>1</th>\n",
       "      <td>AskIndia</td>\n",
       "      <td>4 days ago we had pending orders of 100 millio...</td>\n",
       "      <td>48</td>\n",
       "      <td>fwjdqr</td>\n",
       "      <td>https://www.reddit.com/r/india/comments/fwjdqr...</td>\n",
       "      <td>4</td>\n",
       "      <td>1.586290e+09</td>\n",
       "      <td>&gt; We are getting frantic calls from our pharma...</td>\n",
       "      <td>india_ko_vanakkam</td>\n",
       "    </tr>\n",
       "    <tr>\n",
       "      <th>2</th>\n",
       "      <td>AskIndia</td>\n",
       "      <td>What does r/India thinks about the Flat Earthers?</td>\n",
       "      <td>4</td>\n",
       "      <td>f25vx0</td>\n",
       "      <td>https://www.reddit.com/r/india/comments/f25vx0...</td>\n",
       "      <td>31</td>\n",
       "      <td>1.581441e+09</td>\n",
       "      <td>I encountered a Foreigner in IG who says \" Rou...</td>\n",
       "      <td>Dev1003</td>\n",
       "    </tr>\n",
       "    <tr>\n",
       "      <th>3</th>\n",
       "      <td>AskIndia</td>\n",
       "      <td>People who left their 9 to 5 jobs to pursue a ...</td>\n",
       "      <td>41</td>\n",
       "      <td>dtvliq</td>\n",
       "      <td>https://www.reddit.com/r/india/comments/dtvliq...</td>\n",
       "      <td>34</td>\n",
       "      <td>1.573333e+09</td>\n",
       "      <td>Couldn't add AskIndia flair from the mobile br...</td>\n",
       "      <td>c0mrade34</td>\n",
       "    </tr>\n",
       "    <tr>\n",
       "      <th>4</th>\n",
       "      <td>AskIndia</td>\n",
       "      <td>Somebody want to kill my full family what to do?</td>\n",
       "      <td>96</td>\n",
       "      <td>b7pvwt</td>\n",
       "      <td>https://www.reddit.com/r/india/comments/b7pvwt...</td>\n",
       "      <td>24</td>\n",
       "      <td>1.554080e+09</td>\n",
       "      <td>It's now 24hrs, But local police station is no...</td>\n",
       "      <td>amitkumarthakur</td>\n",
       "    </tr>\n",
       "  </tbody>\n",
       "</table>\n",
       "</div>"
      ],
      "text/plain": [
       "      flair                                              title  score      id  \\\n",
       "0  AskIndia  Randians who were big time users of dating app...     20  fizkkk   \n",
       "1  AskIndia  4 days ago we had pending orders of 100 millio...     48  fwjdqr   \n",
       "2  AskIndia  What does r/India thinks about the Flat Earthers?      4  f25vx0   \n",
       "3  AskIndia  People who left their 9 to 5 jobs to pursue a ...     41  dtvliq   \n",
       "4  AskIndia   Somebody want to kill my full family what to do?     96  b7pvwt   \n",
       "\n",
       "                                                 url  comms_num       created  \\\n",
       "0  https://www.reddit.com/r/india/comments/fizkkk...         19  1.584298e+09   \n",
       "1  https://www.reddit.com/r/india/comments/fwjdqr...          4  1.586290e+09   \n",
       "2  https://www.reddit.com/r/india/comments/f25vx0...         31  1.581441e+09   \n",
       "3  https://www.reddit.com/r/india/comments/dtvliq...         34  1.573333e+09   \n",
       "4  https://www.reddit.com/r/india/comments/b7pvwt...         24  1.554080e+09   \n",
       "\n",
       "                                                body                author  \n",
       "0  I'd my own stint with these apps(a couple of m...  __knockknockturnal__  \n",
       "1  > We are getting frantic calls from our pharma...     india_ko_vanakkam  \n",
       "2  I encountered a Foreigner in IG who says \" Rou...               Dev1003  \n",
       "3  Couldn't add AskIndia flair from the mobile br...             c0mrade34  \n",
       "4  It's now 24hrs, But local police station is no...       amitkumarthakur  "
      ]
     },
     "execution_count": 18,
     "metadata": {},
     "output_type": "execute_result"
    }
   ],
   "source": [
    "# Creating a dataframe for all the values\n",
    "topics_data = pd.DataFrame(topics)\n",
    "\n",
    "# Observing the head of the data\n",
    "topics_data.head()"
   ]
  },
  {
   "cell_type": "code",
   "execution_count": 20,
   "metadata": {},
   "outputs": [
    {
     "data": {
      "text/plain": [
       "flair        0\n",
       "title        0\n",
       "score        0\n",
       "id           0\n",
       "url          0\n",
       "comms_num    0\n",
       "created      0\n",
       "body         0\n",
       "author       0\n",
       "dtype: int64"
      ]
     },
     "execution_count": 20,
     "metadata": {},
     "output_type": "execute_result"
    }
   ],
   "source": [
    "topics_data.isna().sum()"
   ]
  },
  {
   "cell_type": "code",
   "execution_count": 21,
   "metadata": {},
   "outputs": [
    {
     "data": {
      "text/plain": [
       "''"
      ]
     },
     "execution_count": 21,
     "metadata": {},
     "output_type": "execute_result"
    }
   ],
   "source": [
    "topics_data[\"body\"][160]"
   ]
  },
  {
   "cell_type": "code",
   "execution_count": 12,
   "metadata": {},
   "outputs": [
    {
     "name": "stdout",
     "output_type": "stream",
     "text": [
      "No. of posts aquired= 2534\n"
     ]
    }
   ],
   "source": [
    "print(\"No. of posts aquired=\", topics_data.shape[0])"
   ]
  },
  {
   "cell_type": "code",
   "execution_count": 14,
   "metadata": {},
   "outputs": [],
   "source": [
    "os.makedirs(\"data\")\n",
    "topics_data.to_csv(\"data/data.csv\", index = False)"
   ]
  }
 ],
 "metadata": {
  "kernelspec": {
   "display_name": "Python 3",
   "language": "python",
   "name": "python3"
  },
  "language_info": {
   "codemirror_mode": {
    "name": "ipython",
    "version": 3
   },
   "file_extension": ".py",
   "mimetype": "text/x-python",
   "name": "python",
   "nbconvert_exporter": "python",
   "pygments_lexer": "ipython3",
   "version": "3.7.0"
  }
 },
 "nbformat": 4,
 "nbformat_minor": 2
}
