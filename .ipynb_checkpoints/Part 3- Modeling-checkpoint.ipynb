{
 "cells": [
  {
   "cell_type": "code",
   "execution_count": 1,
   "metadata": {},
   "outputs": [],
   "source": [
    "import numpy as np\n",
    "import pandas as pd\n",
    "from tqdm import tqdm\n",
    "from sklearn.preprocessing import LabelEncoder\n",
    "import nltk\n",
    "#nltk.download(\"wordnet\")\n",
    "from nltk.stem import WordNetLemmatizer\n",
    "from sklearn.linear_model import LogisticRegression\n",
    "from sklearn.ensemble import RandomForestClassifier\n",
    "from sklearn.svm import SVC\n",
    "from sklearn.naive_bayes import MultinomialNB\n",
    "from sklearn.neural_network import MLPClassifier\n",
    "from sklearn.metrics import classification_report, accuracy_score, f1_score, confusion_matrix\n",
    "#from xgboost import XGBClassifier\n",
    "import pickle\n",
    "from sklearn.model_selection import train_test_split, GridSearchCV\n",
    "from sklearn.feature_extraction.text import CountVectorizer, TfidfVectorizer\n",
    "import matplotlib.pyplot as plt\n",
    "plt.style.use(\"ggplot\")\n",
    "\n",
    "df = pd.read_csv(\"data/processed.csv\")\n",
    "df[\"body\"] = df[\"body\"].astype(str)\n",
    "df[\"comments\"] = df[\"comments\"].astype(str)"
   ]
  },
  {
   "cell_type": "code",
   "execution_count": 2,
   "metadata": {},
   "outputs": [
    {
     "data": {
      "text/plain": [
       "flair               0\n",
       "title               0\n",
       "score               0\n",
       "id                  0\n",
       "url                 0\n",
       "comms_num           0\n",
       "created             0\n",
       "body                0\n",
       "author              0\n",
       "comments            0\n",
       "word_count_body     0\n",
       "word_count_title    0\n",
       "avg_wlen_body       0\n",
       "avg_wlen_title      0\n",
       "corpus              0\n",
       "dtype: int64"
      ]
     },
     "execution_count": 2,
     "metadata": {},
     "output_type": "execute_result"
    }
   ],
   "source": [
    "df.isna().sum()"
   ]
  },
  {
   "cell_type": "code",
   "execution_count": 3,
   "metadata": {},
   "outputs": [
    {
     "data": {
      "text/html": [
       "<div>\n",
       "<style scoped>\n",
       "    .dataframe tbody tr th:only-of-type {\n",
       "        vertical-align: middle;\n",
       "    }\n",
       "\n",
       "    .dataframe tbody tr th {\n",
       "        vertical-align: top;\n",
       "    }\n",
       "\n",
       "    .dataframe thead th {\n",
       "        text-align: right;\n",
       "    }\n",
       "</style>\n",
       "<table border=\"1\" class=\"dataframe\">\n",
       "  <thead>\n",
       "    <tr style=\"text-align: right;\">\n",
       "      <th></th>\n",
       "      <th>flair</th>\n",
       "      <th>title</th>\n",
       "      <th>score</th>\n",
       "      <th>id</th>\n",
       "      <th>url</th>\n",
       "      <th>comms_num</th>\n",
       "      <th>created</th>\n",
       "      <th>body</th>\n",
       "      <th>author</th>\n",
       "      <th>comments</th>\n",
       "      <th>word_count_body</th>\n",
       "      <th>word_count_title</th>\n",
       "      <th>avg_wlen_body</th>\n",
       "      <th>avg_wlen_title</th>\n",
       "      <th>corpus</th>\n",
       "    </tr>\n",
       "  </thead>\n",
       "  <tbody>\n",
       "    <tr>\n",
       "      <th>0</th>\n",
       "      <td>AskIndia</td>\n",
       "      <td>lost my job, sick mother and paralysed dad, in...</td>\n",
       "      <td>1046</td>\n",
       "      <td>g014wc</td>\n",
       "      <td>https://www.reddit.com/r/india/comments/g014wc...</td>\n",
       "      <td>130</td>\n",
       "      <td>2020-04-13 07:12:28</td>\n",
       "      <td>hi....it's really tough time for everyone. i r...</td>\n",
       "      <td>sanand_satwik</td>\n",
       "      <td>check subreddit forhire</td>\n",
       "      <td>128</td>\n",
       "      <td>15</td>\n",
       "      <td>4.753846</td>\n",
       "      <td>4.400000</td>\n",
       "      <td>lost job sick mother paralysed dad lockdown ea...</td>\n",
       "    </tr>\n",
       "    <tr>\n",
       "      <th>1</th>\n",
       "      <td>AskIndia</td>\n",
       "      <td>why does the government come with a begging bo...</td>\n",
       "      <td>651</td>\n",
       "      <td>fxofyu</td>\n",
       "      <td>https://www.reddit.com/r/india/comments/fxofyu...</td>\n",
       "      <td>205</td>\n",
       "      <td>2020-04-09 21:34:21</td>\n",
       "      <td>we have floods, terrorist attacks, famines due...</td>\n",
       "      <td>TWO-WHEELER-MAFIA</td>\n",
       "      <td>guys know sometimes easy forget urban middle c...</td>\n",
       "      <td>144</td>\n",
       "      <td>12</td>\n",
       "      <td>5.000000</td>\n",
       "      <td>4.833333</td>\n",
       "      <td>government come begging bowl every crisis floo...</td>\n",
       "    </tr>\n",
       "    <tr>\n",
       "      <th>2</th>\n",
       "      <td>AskIndia</td>\n",
       "      <td>mother's condition is going worse due to hepat...</td>\n",
       "      <td>758</td>\n",
       "      <td>g0zlly</td>\n",
       "      <td>https://www.reddit.com/r/india/comments/g0zlly...</td>\n",
       "      <td>94</td>\n",
       "      <td>2020-04-14 18:56:11</td>\n",
       "      <td>hi folks, i really appreciate the warm respons...</td>\n",
       "      <td>sanand_satwik</td>\n",
       "      <td>1 prayers mother hope well soon</td>\n",
       "      <td>290</td>\n",
       "      <td>14</td>\n",
       "      <td>4.780405</td>\n",
       "      <td>5.071429</td>\n",
       "      <td>mother condition going worse due hepatitis b l...</td>\n",
       "    </tr>\n",
       "    <tr>\n",
       "      <th>3</th>\n",
       "      <td>AskIndia</td>\n",
       "      <td>men who are 30+ and have decided not to get ma...</td>\n",
       "      <td>263</td>\n",
       "      <td>fvy95j</td>\n",
       "      <td>https://www.reddit.com/r/india/comments/fvy95j...</td>\n",
       "      <td>209</td>\n",
       "      <td>2020-04-07 02:26:25</td>\n",
       "      <td>the corona virus has given me some time to thi...</td>\n",
       "      <td>indianoogler</td>\n",
       "      <td>in bed age 80 belly full wine girl mouth aroun...</td>\n",
       "      <td>120</td>\n",
       "      <td>18</td>\n",
       "      <td>4.148760</td>\n",
       "      <td>3.666667</td>\n",
       "      <td>men 30 decided married plan old age corona vir...</td>\n",
       "    </tr>\n",
       "    <tr>\n",
       "      <th>4</th>\n",
       "      <td>AskIndia</td>\n",
       "      <td>[please advice] reality punched me in the face...</td>\n",
       "      <td>424</td>\n",
       "      <td>g1lmhg</td>\n",
       "      <td>https://www.reddit.com/r/india/comments/g1lmhg...</td>\n",
       "      <td>83</td>\n",
       "      <td>2020-04-15 18:49:08</td>\n",
       "      <td>sorry reddit, this post is going to be long. p...</td>\n",
       "      <td>throaway-forprivacy</td>\n",
       "      <td>buddy work making short keep good contact girl...</td>\n",
       "      <td>644</td>\n",
       "      <td>9</td>\n",
       "      <td>4.208589</td>\n",
       "      <td>5.000000</td>\n",
       "      <td>please advice reality punched face today sorry...</td>\n",
       "    </tr>\n",
       "  </tbody>\n",
       "</table>\n",
       "</div>"
      ],
      "text/plain": [
       "      flair                                              title  score      id  \\\n",
       "0  AskIndia  lost my job, sick mother and paralysed dad, in...   1046  g014wc   \n",
       "1  AskIndia  why does the government come with a begging bo...    651  fxofyu   \n",
       "2  AskIndia  mother's condition is going worse due to hepat...    758  g0zlly   \n",
       "3  AskIndia  men who are 30+ and have decided not to get ma...    263  fvy95j   \n",
       "4  AskIndia  [please advice] reality punched me in the face...    424  g1lmhg   \n",
       "\n",
       "                                                 url  comms_num  \\\n",
       "0  https://www.reddit.com/r/india/comments/g014wc...        130   \n",
       "1  https://www.reddit.com/r/india/comments/fxofyu...        205   \n",
       "2  https://www.reddit.com/r/india/comments/g0zlly...         94   \n",
       "3  https://www.reddit.com/r/india/comments/fvy95j...        209   \n",
       "4  https://www.reddit.com/r/india/comments/g1lmhg...         83   \n",
       "\n",
       "               created                                               body  \\\n",
       "0  2020-04-13 07:12:28  hi....it's really tough time for everyone. i r...   \n",
       "1  2020-04-09 21:34:21  we have floods, terrorist attacks, famines due...   \n",
       "2  2020-04-14 18:56:11  hi folks, i really appreciate the warm respons...   \n",
       "3  2020-04-07 02:26:25  the corona virus has given me some time to thi...   \n",
       "4  2020-04-15 18:49:08  sorry reddit, this post is going to be long. p...   \n",
       "\n",
       "                author                                           comments  \\\n",
       "0        sanand_satwik                            check subreddit forhire   \n",
       "1    TWO-WHEELER-MAFIA  guys know sometimes easy forget urban middle c...   \n",
       "2        sanand_satwik                    1 prayers mother hope well soon   \n",
       "3         indianoogler  in bed age 80 belly full wine girl mouth aroun...   \n",
       "4  throaway-forprivacy  buddy work making short keep good contact girl...   \n",
       "\n",
       "   word_count_body  word_count_title  avg_wlen_body  avg_wlen_title  \\\n",
       "0              128                15       4.753846        4.400000   \n",
       "1              144                12       5.000000        4.833333   \n",
       "2              290                14       4.780405        5.071429   \n",
       "3              120                18       4.148760        3.666667   \n",
       "4              644                 9       4.208589        5.000000   \n",
       "\n",
       "                                              corpus  \n",
       "0  lost job sick mother paralysed dad lockdown ea...  \n",
       "1  government come begging bowl every crisis floo...  \n",
       "2  mother condition going worse due hepatitis b l...  \n",
       "3  men 30 decided married plan old age corona vir...  \n",
       "4  please advice reality punched face today sorry...  "
      ]
     },
     "execution_count": 3,
     "metadata": {},
     "output_type": "execute_result"
    }
   ],
   "source": [
    "df.head()"
   ]
  },
  {
   "cell_type": "markdown",
   "metadata": {},
   "source": [
    "Getting our text and labelling the flairs\n",
    "(Firstly, we'll use only the title and bosy of the posts as features, and then evaluate how the models perform)"
   ]
  },
  {
   "cell_type": "code",
   "execution_count": 4,
   "metadata": {},
   "outputs": [],
   "source": [
    "X = df[\"corpus\"]\n",
    "Y = df[\"flair\"]\n",
    "\n",
    "label_encoder = LabelEncoder()\n",
    "labels = label_encoder.fit_transform(Y)"
   ]
  },
  {
   "cell_type": "markdown",
   "metadata": {},
   "source": [
    "Now splitting the data into training and testing sets, with a ratio of 75:25"
   ]
  },
  {
   "cell_type": "code",
   "execution_count": 5,
   "metadata": {},
   "outputs": [],
   "source": [
    "Xtrain, Xtest, Ytrain, Ytest = train_test_split(X, labels, test_size = 0.25, random_state = 42)"
   ]
  },
  {
   "cell_type": "markdown",
   "metadata": {},
   "source": [
    "# Modeling"
   ]
  },
  {
   "cell_type": "code",
   "execution_count": 6,
   "metadata": {},
   "outputs": [],
   "source": [
    "'''\n",
    "Function for training different classifier algorithms, on different types of processed data\n",
    "provided to the function\n",
    "\n",
    "This function also prints, in detail the evaluation results, followed by a fair comparison between\n",
    "the performance of all the algorithms individually\n",
    "'''\n",
    "def train(X, Y, testx, ytest, data_form):\n",
    "    \n",
    "    acc = []\n",
    "    f1 = []\n",
    "    \n",
    "    lr = LogisticRegression()\n",
    "    rf = RandomForestClassifier(n_estimators = 100, n_jobs = -1, random_state = 42)\n",
    "    svc = SVC()\n",
    "    nb = MultinomialNB()\n",
    "    mlp = MLPClassifier(hidden_layer_sizes=(30,30,30))\n",
    "    \n",
    "    models = {\n",
    "              \"LR\": lr,\n",
    "              \"RF\": rf, \n",
    "              \"SVC\": svc,\n",
    "              \"NB\": nb,\n",
    "              \"MLP\": mlp\n",
    "             }\n",
    "    \n",
    "    print(\"[INFO] Training...\")\n",
    "    for name in tqdm(models.keys()):\n",
    "        clf = models[name]\n",
    "        clf.fit(X,Y)\n",
    "        \n",
    "        preds = clf.predict(testx)\n",
    "        \n",
    "        #print(\"Model: \", name)\n",
    "        report = classification_report(ytest, preds, output_dict = True)\n",
    "        #print(classification_report(ytest, preds))\n",
    "        \n",
    "        acc.append(round(report[\"accuracy\"], 2))\n",
    "        f1.append(round(report[\"weighted avg\"][\"f1-score\"], 2))\n",
    "        \n",
    "        #pickle.dump(clf, open(\"models/\" + data_form + name + \".pkl\", \"wb\"))\n",
    "\n",
    "    plt.figure(figsize = (16, 8))\n",
    "    ax1 = plt.subplot(1, 1, 1)\n",
    "    x = np.arange(len(models))\n",
    "    w = 0.3\n",
    "    plt.xticks(x, models.keys())\n",
    "    accuracy = ax1.bar(x + w/2, acc, w,color = \"green\", align = \"center\")\n",
    "    ax2 = ax1.twinx()\n",
    "    f1score = ax2.bar(x - w/2, f1, w, color = \"gray\", align = \"center\")\n",
    "    plt.title(\"Scores given by every model\")\n",
    "    plt.ylabel(\"Count\")\n",
    "    plt.legend([accuracy, f1score], [\"Accuracy\", \"F1 Score\"])\n",
    "    plt.show()\n",
    "    "
   ]
  },
  {
   "cell_type": "code",
   "execution_count": 7,
   "metadata": {},
   "outputs": [
    {
     "name": "stderr",
     "output_type": "stream",
     "text": [
      "\r",
      "  0%|                                                                                            | 0/5 [00:00<?, ?it/s]"
     ]
    },
    {
     "name": "stdout",
     "output_type": "stream",
     "text": [
      "[INFO] Training...\n"
     ]
    },
    {
     "name": "stderr",
     "output_type": "stream",
     "text": [
      " 40%|█████████████████████████████████▌                                                  | 2/5 [00:04<00:08,  2.89s/it]C:\\Users\\azfar\\Anaconda3\\envs\\atneva2\\lib\\site-packages\\sklearn\\metrics\\_classification.py:1272: UndefinedMetricWarning: Precision and F-score are ill-defined and being set to 0.0 in labels with no predicted samples. Use `zero_division` parameter to control this behavior.\n",
      "  _warn_prf(average, modifier, msg_start, len(result))\n",
      "100%|████████████████████████████████████████████████████████████████████████████████████| 5/5 [00:46<00:00,  9.32s/it]\n"
     ]
    },
    {
     "data": {
      "image/png": "[encoded data removed]",
      "text/plain": [
       "<Figure size 1152x576 with 2 Axes>"
      ]
     },
     "metadata": {},
     "output_type": "display_data"
    }
   ],
   "source": [
    "# create a count vectorizer object \n",
    "#count_vect = CountVectorizer(analyzer='word', token_pattern=r'\\w{1,}')\n",
    "count_vect = CountVectorizer()\n",
    "\n",
    "trainx_cv = count_vect.fit_transform(Xtrain)\n",
    "testx_cv = count_vect.transform(Xtest)\n",
    "\n",
    "train(trainx_cv, Ytrain, testx_cv, Ytest, data_form = \"countvectorizer\")"
   ]
  },
  {
   "cell_type": "code",
   "execution_count": 8,
   "metadata": {},
   "outputs": [
    {
     "name": "stderr",
     "output_type": "stream",
     "text": [
      "\r",
      "  0%|                                                                                            | 0/5 [00:00<?, ?it/s]"
     ]
    },
    {
     "name": "stdout",
     "output_type": "stream",
     "text": [
      "[INFO] Training...\n"
     ]
    },
    {
     "name": "stderr",
     "output_type": "stream",
     "text": [
      "100%|████████████████████████████████████████████████████████████████████████████████████| 5/5 [01:04<00:00, 12.81s/it]\n"
     ]
    },
    {
     "data": {
      "image/png": "[encoded data removed]",
      "text/plain": [
       "<Figure size 1152x576 with 2 Axes>"
      ]
     },
     "metadata": {},
     "output_type": "display_data"
    }
   ],
   "source": [
    "# TFIDF Vectors\n",
    "# word level tf-idf\n",
    "tfidf_vect = TfidfVectorizer()\n",
    "tf_xtrain_w = tfidf_vect.fit_transform(Xtrain)\n",
    "\n",
    "tf_xtest_w =  tfidf_vect.transform(Xtest)\n",
    "train(tf_xtrain_w, Ytrain, tf_xtest_w, Ytest, \"tf_word\")"
   ]
  },
  {
   "cell_type": "code",
   "execution_count": 53,
   "metadata": {},
   "outputs": [
    {
     "name": "stderr",
     "output_type": "stream",
     "text": [
      "\r",
      "  0%|                                                                                            | 0/5 [00:00<?, ?it/s]"
     ]
    },
    {
     "name": "stdout",
     "output_type": "stream",
     "text": [
      "[INFO] Training...\n"
     ]
    },
    {
     "name": "stderr",
     "output_type": "stream",
     "text": [
      "100%|████████████████████████████████████████████████████████████████████████████████████| 5/5 [00:21<00:00,  4.35s/it]\n"
     ]
    },
    {
     "data": {
      "image/png": "[encoded data removed]",
      "text/plain": [
       "<Figure size 1152x576 with 2 Axes>"
      ]
     },
     "metadata": {},
     "output_type": "display_data"
    }
   ],
   "source": [
    "# n-gram level tf-idf\n",
    "tfidf_vect = TfidfVectorizer(analyzer='word', token_pattern=r'\\w{1,}', ngram_range=(2,3), max_features=5000)\n",
    "tf_xtrain_w = tfidf_vect.fit_transform(Xtrain)\n",
    "\n",
    "tf_xtest_w =  tfidf_vect.transform(Xtest)\n",
    "train(tf_xtrain_w, Ytrain, tf_xtest_w, Ytest, \"tf_ngram\")"
   ]
  },
  {
   "cell_type": "code",
   "execution_count": null,
   "metadata": {},
   "outputs": [
    {
     "name": "stderr",
     "output_type": "stream",
     "text": [
      "\r",
      "  0%|                                                                                            | 0/5 [00:00<?, ?it/s]"
     ]
    },
    {
     "name": "stdout",
     "output_type": "stream",
     "text": [
      "[INFO] Training...\n"
     ]
    },
    {
     "name": "stderr",
     "output_type": "stream",
     "text": [
      " 40%|█████████████████████████████████▌                                                  | 2/5 [00:03<00:05,  1.99s/it]"
     ]
    }
   ],
   "source": [
    "# character and n-gram level tf-idf\n",
    "tfidf_vect = TfidfVectorizer(analyzer='char', token_pattern=r'\\w{1,}', ngram_range=(2,3), max_features=5000)\n",
    "tf_xtrain_w = tfidf_vect.fit_transform(Xtrain)\n",
    "\n",
    "tf_xtest_w =  tfidf_vect.transform(Xtest)\n",
    "train(tf_xtrain_w, Ytrain, tf_xtest_w, Ytest, \"tf_ngram_char\")"
   ]
  },
  {
   "cell_type": "code",
   "execution_count": null,
   "metadata": {},
   "outputs": [],
   "source": [
    "# word level tf-idf\n",
    "tfidf_vect = TfidfVectorizer(analyzer='char', token_pattern=r'\\w{1,}', max_features=5000)\n",
    "tf_xtrain_w = tfidf_vect.fit_transform(Xtrain)\n",
    "\n",
    "tf_xtest_w =  tfidf_vect.transform(Xtest)\n",
    "train(tf_xtrain_w, Ytrain, tf_xtest_w, Ytest, \"tf_char\")"
   ]
  },
  {
   "cell_type": "code",
   "execution_count": null,
   "metadata": {},
   "outputs": [],
   "source": []
  },
  {
   "cell_type": "code",
   "execution_count": null,
   "metadata": {},
   "outputs": [],
   "source": []
  },
  {
   "cell_type": "code",
   "execution_count": null,
   "metadata": {},
   "outputs": [],
   "source": []
  },
  {
   "cell_type": "code",
   "execution_count": null,
   "metadata": {},
   "outputs": [],
   "source": []
  },
  {
   "cell_type": "markdown",
   "metadata": {},
   "source": [
    "**One final step to the preprocessing of the cleaned text: Lemmatiztion**\n",
    "Here, we convert each an every work to their root word"
   ]
  },
  {
   "cell_type": "code",
   "execution_count": 9,
   "metadata": {},
   "outputs": [],
   "source": [
    "lemmatizer = WordNetLemmatizer() \n",
    "\n",
    "df[\"lemmatized\"] = X.apply(lambda x: \" \".join([lemmatizer.lemmatize(i) for i in x.split(\" \")]))"
   ]
  },
  {
   "cell_type": "code",
   "execution_count": 10,
   "metadata": {},
   "outputs": [],
   "source": [
    "Xtrain, Xtest, Ytrain, Ytest = train_test_split(df[\"lemmatized\"], labels, test_size = 0.25, random_state = 42)"
   ]
  },
  {
   "cell_type": "code",
   "execution_count": 11,
   "metadata": {},
   "outputs": [
    {
     "name": "stderr",
     "output_type": "stream",
     "text": [
      "\r",
      "  0%|                                                                                            | 0/5 [00:00<?, ?it/s]"
     ]
    },
    {
     "name": "stdout",
     "output_type": "stream",
     "text": [
      "[INFO] Training...\n"
     ]
    },
    {
     "name": "stderr",
     "output_type": "stream",
     "text": [
      "100%|████████████████████████████████████████████████████████████████████████████████████| 5/5 [01:08<00:00, 13.66s/it]\n"
     ]
    },
    {
     "data": {
      "image/png": "[encoded data removed]",
      "text/plain": [
       "<Figure size 1152x576 with 2 Axes>"
      ]
     },
     "metadata": {},
     "output_type": "display_data"
    }
   ],
   "source": [
    "# TFIDF Vectors\n",
    "# word level tf-idf\n",
    "tfidf_vect = TfidfVectorizer()\n",
    "tf_xtrain_w = tfidf_vect.fit_transform(Xtrain)\n",
    "\n",
    "tf_xtest_w =  tfidf_vect.transform(Xtest)\n",
    "train(tf_xtrain_w, Ytrain, tf_xtest_w, Ytest, \"tf_word\")"
   ]
  },
  {
   "cell_type": "code",
   "execution_count": 12,
   "metadata": {},
   "outputs": [
    {
     "name": "stderr",
     "output_type": "stream",
     "text": [
      "\r",
      "  0%|                                                                                            | 0/5 [00:00<?, ?it/s]"
     ]
    },
    {
     "name": "stdout",
     "output_type": "stream",
     "text": [
      "[INFO] Training...\n"
     ]
    },
    {
     "name": "stderr",
     "output_type": "stream",
     "text": [
      " 40%|█████████████████████████████████▌                                                  | 2/5 [00:04<00:07,  2.62s/it]C:\\Users\\azfar\\Anaconda3\\envs\\atneva2\\lib\\site-packages\\sklearn\\metrics\\_classification.py:1272: UndefinedMetricWarning: Precision and F-score are ill-defined and being set to 0.0 in labels with no predicted samples. Use `zero_division` parameter to control this behavior.\n",
      "  _warn_prf(average, modifier, msg_start, len(result))\n",
      "100%|████████████████████████████████████████████████████████████████████████████████████| 5/5 [00:52<00:00, 10.52s/it]\n"
     ]
    },
    {
     "data": {
      "image/png": "[encoded data removed]",
      "text/plain": [
       "<Figure size 1152x576 with 2 Axes>"
      ]
     },
     "metadata": {},
     "output_type": "display_data"
    }
   ],
   "source": [
    "# create a count vectorizer object \n",
    "count_vect = CountVectorizer()\n",
    "\n",
    "trainx_cv = count_vect.fit_transform(Xtrain)\n",
    "testx_cv = count_vect.transform(Xtest)\n",
    "\n",
    "train(trainx_cv, Ytrain, testx_cv, Ytest, data_form = \"countvectorizer\")"
   ]
  },
  {
   "cell_type": "code",
   "execution_count": 13,
   "metadata": {},
   "outputs": [],
   "source": [
    "df[\"corpus\"] = df[\"corpus\"] + \" \" + df[\"comments\"]"
   ]
  },
  {
   "cell_type": "code",
   "execution_count": 14,
   "metadata": {},
   "outputs": [],
   "source": [
    "Xtrain, Xtest, Ytrain, Ytest = train_test_split(df[\"corpus\"], labels, test_size = 0.25, random_state = 42)"
   ]
  },
  {
   "cell_type": "code",
   "execution_count": 15,
   "metadata": {},
   "outputs": [
    {
     "name": "stderr",
     "output_type": "stream",
     "text": [
      "\r",
      "  0%|                                                                                            | 0/5 [00:00<?, ?it/s]"
     ]
    },
    {
     "name": "stdout",
     "output_type": "stream",
     "text": [
      "[INFO] Training...\n"
     ]
    },
    {
     "name": "stderr",
     "output_type": "stream",
     "text": [
      "100%|████████████████████████████████████████████████████████████████████████████████████| 5/5 [00:55<00:00, 11.17s/it]\n"
     ]
    },
    {
     "data": {
      "image/png": "[encoded data removed]",
      "text/plain": [
       "<Figure size 1152x576 with 2 Axes>"
      ]
     },
     "metadata": {},
     "output_type": "display_data"
    }
   ],
   "source": [
    "# TFIDF Vectors\n",
    "# word level tf-idf\n",
    "tfidf_vect = TfidfVectorizer()\n",
    "tf_xtrain_w = tfidf_vect.fit_transform(Xtrain)\n",
    "\n",
    "tf_xtest_w =  tfidf_vect.transform(Xtest)\n",
    "train(tf_xtrain_w, Ytrain, tf_xtest_w, Ytest, \"tf_word\")"
   ]
  },
  {
   "cell_type": "code",
   "execution_count": 16,
   "metadata": {},
   "outputs": [
    {
     "name": "stderr",
     "output_type": "stream",
     "text": [
      "\r",
      "  0%|                                                                                            | 0/5 [00:00<?, ?it/s]"
     ]
    },
    {
     "name": "stdout",
     "output_type": "stream",
     "text": [
      "[INFO] Training...\n"
     ]
    },
    {
     "name": "stderr",
     "output_type": "stream",
     "text": [
      " 40%|█████████████████████████████████▌                                                  | 2/5 [00:05<00:09,  3.09s/it]C:\\Users\\azfar\\Anaconda3\\envs\\atneva2\\lib\\site-packages\\sklearn\\metrics\\_classification.py:1272: UndefinedMetricWarning: Precision and F-score are ill-defined and being set to 0.0 in labels with no predicted samples. Use `zero_division` parameter to control this behavior.\n",
      "  _warn_prf(average, modifier, msg_start, len(result))\n",
      "100%|████████████████████████████████████████████████████████████████████████████████████| 5/5 [00:46<00:00,  9.32s/it]\n"
     ]
    },
    {
     "data": {
      "image/png": "[encoded data removed]",
      "text/plain": [
       "<Figure size 1152x576 with 2 Axes>"
      ]
     },
     "metadata": {},
     "output_type": "display_data"
    }
   ],
   "source": [
    "# create a count vectorizer object \n",
    "count_vect = CountVectorizer()\n",
    "\n",
    "trainx_cv = count_vect.fit_transform(Xtrain)\n",
    "testx_cv = count_vect.transform(Xtest)\n",
    "\n",
    "train(trainx_cv, Ytrain, testx_cv, Ytest, data_form = \"countvectorizer\")"
   ]
  },
  {
   "cell_type": "code",
   "execution_count": 7,
   "metadata": {},
   "outputs": [],
   "source": [
    "lemmatizer = WordNetLemmatizer() \n",
    "\n",
    "df[\"lemmatized\"] = df[\"corpus\"].apply(lambda x: \" \".join([lemmatizer.lemmatize(i) for i in x.split(\" \")]))\n",
    "Xtrain, Xtest, Ytrain, Ytest = train_test_split(df[\"lemmatized\"], labels, test_size = 0.25, random_state = 42)"
   ]
  },
  {
   "cell_type": "code",
   "execution_count": 8,
   "metadata": {},
   "outputs": [
    {
     "name": "stderr",
     "output_type": "stream",
     "text": [
      "\r",
      "  0%|                                                                                            | 0/5 [00:00<?, ?it/s]"
     ]
    },
    {
     "name": "stdout",
     "output_type": "stream",
     "text": [
      "[INFO] Training...\n"
     ]
    },
    {
     "name": "stderr",
     "output_type": "stream",
     "text": [
      " 40%|█████████████████████████████████▌                                                  | 2/5 [00:02<00:04,  1.63s/it]C:\\Users\\azfar\\Anaconda3\\envs\\atneva2\\lib\\site-packages\\sklearn\\metrics\\_classification.py:1272: UndefinedMetricWarning: Precision and F-score are ill-defined and being set to 0.0 in labels with no predicted samples. Use `zero_division` parameter to control this behavior.\n",
      "  _warn_prf(average, modifier, msg_start, len(result))\n",
      "100%|████████████████████████████████████████████████████████████████████████████████████| 5/5 [00:32<00:00,  6.58s/it]\n"
     ]
    },
    {
     "data": {
      "image/png": "[encoded data removed]",
      "text/plain": [
       "<Figure size 1152x576 with 2 Axes>"
      ]
     },
     "metadata": {},
     "output_type": "display_data"
    }
   ],
   "source": [
    "# create a count vectorizer object \n",
    "count_vect = CountVectorizer()\n",
    "\n",
    "trainx_cv = count_vect.fit_transform(Xtrain)\n",
    "testx_cv = count_vect.transform(Xtest)\n",
    "\n",
    "train(trainx_cv, Ytrain, testx_cv, Ytest, data_form = \"countvectorizer\")"
   ]
  },
  {
   "cell_type": "code",
   "execution_count": 9,
   "metadata": {},
   "outputs": [
    {
     "name": "stderr",
     "output_type": "stream",
     "text": [
      "\r",
      "  0%|                                                                                            | 0/5 [00:00<?, ?it/s]"
     ]
    },
    {
     "name": "stdout",
     "output_type": "stream",
     "text": [
      "[INFO] Training...\n"
     ]
    },
    {
     "name": "stderr",
     "output_type": "stream",
     "text": [
      "100%|████████████████████████████████████████████████████████████████████████████████████| 5/5 [00:43<00:00,  8.62s/it]\n"
     ]
    },
    {
     "data": {
      "image/png": "[encoded data removed]",
      "text/plain": [
       "<Figure size 1152x576 with 2 Axes>"
      ]
     },
     "metadata": {},
     "output_type": "display_data"
    }
   ],
   "source": [
    "# TFIDF Vectors\n",
    "# word level tf-idf\n",
    "tfidf_vect = TfidfVectorizer()\n",
    "tf_xtrain_w = tfidf_vect.fit_transform(Xtrain)\n",
    "\n",
    "tf_xtest_w =  tfidf_vect.transform(Xtest)\n",
    "train(tf_xtrain_w, Ytrain, tf_xtest_w, Ytest, \"tf_word\")"
   ]
  },
  {
   "cell_type": "code",
   "execution_count": null,
   "metadata": {},
   "outputs": [],
   "source": []
  },
  {
   "cell_type": "code",
   "execution_count": 10,
   "metadata": {},
   "outputs": [
    {
     "name": "stdout",
     "output_type": "stream",
     "text": [
      "Fitting 3 folds for each of 320 candidates, totalling 960 fits\n"
     ]
    },
    {
     "name": "stderr",
     "output_type": "stream",
     "text": [
      "[Parallel(n_jobs=-1)]: Using backend LokyBackend with 8 concurrent workers.\n",
      "[Parallel(n_jobs=-1)]: Done  25 tasks      | elapsed:    6.7s\n",
      "[Parallel(n_jobs=-1)]: Done 146 tasks      | elapsed:   28.6s\n",
      "[Parallel(n_jobs=-1)]: Done 349 tasks      | elapsed:  1.2min\n",
      "[Parallel(n_jobs=-1)]: Done 632 tasks      | elapsed:  2.4min\n",
      "[Parallel(n_jobs=-1)]: Done 960 out of 960 | elapsed:  4.1min finished\n"
     ]
    },
    {
     "data": {
      "text/plain": [
       "GridSearchCV(cv=3, error_score=nan,\n",
       "             estimator=RandomForestClassifier(bootstrap=True, ccp_alpha=0.0,\n",
       "                                              class_weight=None,\n",
       "                                              criterion='gini', max_depth=None,\n",
       "                                              max_features='auto',\n",
       "                                              max_leaf_nodes=None,\n",
       "                                              max_samples=None,\n",
       "                                              min_impurity_decrease=0.0,\n",
       "                                              min_impurity_split=None,\n",
       "                                              min_samples_leaf=1,\n",
       "                                              min_samples_split=2,\n",
       "                                              min_weight_fraction_leaf=0.0,\n",
       "                                              n_estimators=100, n_jobs=None,\n",
       "                                              oob_score=False,\n",
       "                                              random_state=None, verbose=0,\n",
       "                                              warm_start=False),\n",
       "             iid='deprecated', n_jobs=-1,\n",
       "             param_grid={'max_depth': [10, 20, 30, 40],\n",
       "                         'min_samples_leaf': [1, 2, 3, 4],\n",
       "                         'min_samples_split': [2, 4, 6, 8, 10],\n",
       "                         'n_estimators': [50, 100, 200, 300]},\n",
       "             pre_dispatch='2*n_jobs', refit=True, return_train_score=False,\n",
       "             scoring=None, verbose=2)"
      ]
     },
     "execution_count": 10,
     "metadata": {},
     "output_type": "execute_result"
    }
   ],
   "source": [
    "from sklearn.model_selection import GridSearchCV\n",
    "\n",
    "param_grid = {\n",
    "    'max_depth': [10, 20, 30, 40],\n",
    "    'min_samples_leaf': [1, 2, 3, 4],\n",
    "    'min_samples_split': [2, 4, 6, 8, 10],\n",
    "    'n_estimators': [50, 100, 200, 300]\n",
    "}\n",
    "# Create a based model\n",
    "rf = RandomForestClassifier()\n",
    "# Instantiate the grid search model\n",
    "grid_search = GridSearchCV(estimator = rf, param_grid = param_grid, \n",
    "                          cv = 3, n_jobs = -1, verbose = 2)\n",
    "\n",
    "grid_search.fit(tf_xtrain_w, Ytrain)"
   ]
  },
  {
   "cell_type": "code",
   "execution_count": 11,
   "metadata": {},
   "outputs": [
    {
     "data": {
      "text/plain": [
       "{'max_depth': 40,\n",
       " 'min_samples_leaf': 2,\n",
       " 'min_samples_split': 6,\n",
       " 'n_estimators': 300}"
      ]
     },
     "execution_count": 11,
     "metadata": {},
     "output_type": "execute_result"
    }
   ],
   "source": [
    "grid_search.best_params_"
   ]
  },
  {
   "cell_type": "code",
   "execution_count": 12,
   "metadata": {},
   "outputs": [
    {
     "name": "stdout",
     "output_type": "stream",
     "text": [
      "              precision    recall  f1-score   support\n",
      "\n",
      "           0       1.00      0.69      0.81        86\n",
      "           1       0.66      0.30      0.41       127\n",
      "           2       0.47      0.56      0.51        50\n",
      "           3       0.46      0.76      0.57        38\n",
      "           4       0.14      0.36      0.20        28\n",
      "           5       0.72      0.61      0.66        64\n",
      "           6       0.41      0.52      0.46        44\n",
      "           7       0.62      0.26      0.37       121\n",
      "           8       0.86      0.86      0.86        66\n",
      "           9       0.25      0.55      0.34        31\n",
      "          10       0.61      0.72      0.66        47\n",
      "          11       0.16      0.47      0.23        19\n",
      "\n",
      "    accuracy                           0.52       721\n",
      "   macro avg       0.53      0.56      0.51       721\n",
      "weighted avg       0.62      0.52      0.53       721\n",
      "\n"
     ]
    },
    {
     "data": {
      "text/plain": [
       "0.5201109570041609"
      ]
     },
     "execution_count": 12,
     "metadata": {},
     "output_type": "execute_result"
    }
   ],
   "source": [
    "preds = grid_search.predict(tf_xtest_w)\n",
    "print(classification_report(preds, Ytest))\n",
    "accuracy_score(Ytest, preds)"
   ]
  },
  {
   "cell_type": "code",
   "execution_count": 13,
   "metadata": {},
   "outputs": [
    {
     "name": "stdout",
     "output_type": "stream",
     "text": [
      "Fitting 3 folds for each of 320 candidates, totalling 960 fits\n"
     ]
    },
    {
     "name": "stderr",
     "output_type": "stream",
     "text": [
      "[Parallel(n_jobs=-1)]: Using backend LokyBackend with 8 concurrent workers.\n",
      "[Parallel(n_jobs=-1)]: Done  25 tasks      | elapsed:    4.5s\n",
      "[Parallel(n_jobs=-1)]: Done 146 tasks      | elapsed:   26.1s\n",
      "[Parallel(n_jobs=-1)]: Done 349 tasks      | elapsed:  1.1min\n",
      "[Parallel(n_jobs=-1)]: Done 632 tasks      | elapsed:  2.3min\n",
      "[Parallel(n_jobs=-1)]: Done 960 out of 960 | elapsed:  3.8min finished\n"
     ]
    },
    {
     "data": {
      "text/plain": [
       "GridSearchCV(cv=3, error_score=nan,\n",
       "             estimator=RandomForestClassifier(bootstrap=True, ccp_alpha=0.0,\n",
       "                                              class_weight=None,\n",
       "                                              criterion='gini', max_depth=None,\n",
       "                                              max_features='auto',\n",
       "                                              max_leaf_nodes=None,\n",
       "                                              max_samples=None,\n",
       "                                              min_impurity_decrease=0.0,\n",
       "                                              min_impurity_split=None,\n",
       "                                              min_samples_leaf=1,\n",
       "                                              min_samples_split=2,\n",
       "                                              min_weight_fraction_leaf=0.0,\n",
       "                                              n_estimators=100, n_jobs=None,\n",
       "                                              oob_score=False,\n",
       "                                              random_state=None, verbose=0,\n",
       "                                              warm_start=False),\n",
       "             iid='deprecated', n_jobs=-1,\n",
       "             param_grid={'max_depth': [10, 20, 30, 40],\n",
       "                         'min_samples_leaf': [1, 2, 3, 4],\n",
       "                         'min_samples_split': [2, 4, 6, 8, 10],\n",
       "                         'n_estimators': [50, 100, 200, 300]},\n",
       "             pre_dispatch='2*n_jobs', refit=True, return_train_score=False,\n",
       "             scoring=None, verbose=2)"
      ]
     },
     "execution_count": 13,
     "metadata": {},
     "output_type": "execute_result"
    }
   ],
   "source": [
    "#from sklearn.model_selection import GridSearchCV\n",
    "\n",
    "param_grid = {\n",
    "    'max_depth': [10, 20, 30, 40],\n",
    "    'min_samples_leaf': [1, 2, 3, 4],\n",
    "    'min_samples_split': [2, 4, 6, 8, 10],\n",
    "    'n_estimators': [50, 100, 200, 300]\n",
    "}\n",
    "# Create a based model\n",
    "rf = RandomForestClassifier()\n",
    "# Instantiate the grid search model\n",
    "grid_search_cv = GridSearchCV(estimator = rf, param_grid = param_grid, \n",
    "                          cv = 3, n_jobs = -1, verbose = 2)\n",
    "\n",
    "grid_search.fit(trainx_cv, Ytrain)"
   ]
  },
  {
   "cell_type": "code",
   "execution_count": 14,
   "metadata": {},
   "outputs": [
    {
     "data": {
      "text/plain": [
       "{'max_depth': 40,\n",
       " 'min_samples_leaf': 2,\n",
       " 'min_samples_split': 8,\n",
       " 'n_estimators': 300}"
      ]
     },
     "execution_count": 14,
     "metadata": {},
     "output_type": "execute_result"
    }
   ],
   "source": [
    "grid_search.best_params_"
   ]
  },
  {
   "cell_type": "code",
   "execution_count": 15,
   "metadata": {},
   "outputs": [
    {
     "name": "stdout",
     "output_type": "stream",
     "text": [
      "              precision    recall  f1-score   support\n",
      "\n",
      "           0       1.00      0.72      0.84        82\n",
      "           1       0.64      0.29      0.40       127\n",
      "           2       0.46      0.56      0.50        48\n",
      "           3       0.49      0.76      0.60        41\n",
      "           4       0.17      0.39      0.24        31\n",
      "           5       0.76      0.62      0.68        66\n",
      "           6       0.38      0.53      0.44        40\n",
      "           7       0.62      0.24      0.35       131\n",
      "           8       0.89      0.86      0.87        69\n",
      "           9       0.26      0.62      0.37        29\n",
      "          10       0.64      0.80      0.71        45\n",
      "          11       0.10      0.50      0.17        12\n",
      "\n",
      "    accuracy                           0.53       721\n",
      "   macro avg       0.53      0.57      0.51       721\n",
      "weighted avg       0.63      0.53      0.54       721\n",
      "\n"
     ]
    },
    {
     "data": {
      "text/plain": [
       "0.5256588072122053"
      ]
     },
     "execution_count": 15,
     "metadata": {},
     "output_type": "execute_result"
    }
   ],
   "source": [
    "preds = grid_search.predict(testx_cv)\n",
    "print(classification_report(preds, Ytest))\n",
    "accuracy_score(Ytest, preds)"
   ]
  },
  {
   "cell_type": "code",
   "execution_count": 16,
   "metadata": {},
   "outputs": [
    {
     "data": {
      "text/plain": [
       "array([[59,  0,  0,  0,  0,  0,  0,  0,  0,  0,  0,  0],\n",
       "       [ 8, 37,  2,  1,  2,  1,  2,  4,  0,  1,  0,  0],\n",
       "       [ 3, 13, 27,  0,  0,  0,  5,  9,  0,  1,  1,  0],\n",
       "       [ 0, 16,  1, 31,  0,  2,  1,  8,  0,  2,  2,  0],\n",
       "       [ 2, 15,  2,  3, 12,  8,  1, 18,  0,  6,  1,  3],\n",
       "       [ 0,  0,  0,  0,  2, 41,  0, 11,  0,  0,  0,  0],\n",
       "       [ 1, 15,  7,  0,  1,  0, 21,  9,  0,  0,  1,  1],\n",
       "       [ 0,  6,  1,  2,  2,  2,  4, 32,  0,  1,  1,  1],\n",
       "       [ 3,  2,  0,  0,  0,  1,  0,  1, 59,  0,  0,  0],\n",
       "       [ 2, 14,  4,  1,  1,  6,  5, 17,  0, 18,  1,  0],\n",
       "       [ 1,  1,  3,  0,  3,  2,  0,  9,  0,  0, 36,  1],\n",
       "       [ 3,  8,  1,  3,  8,  3,  1, 13, 10,  0,  2,  6]], dtype=int64)"
      ]
     },
     "execution_count": 16,
     "metadata": {},
     "output_type": "execute_result"
    }
   ],
   "source": [
    "from sklearn.metrics import confusion_matrix\n",
    "\n",
    "confusion_matrix(Ytest, preds)"
   ]
  },
  {
   "cell_type": "code",
   "execution_count": 14,
   "metadata": {},
   "outputs": [
    {
     "name": "stdout",
     "output_type": "stream",
     "text": [
      "Fitting 3 folds for each of 6 candidates, totalling 18 fits\n"
     ]
    },
    {
     "name": "stderr",
     "output_type": "stream",
     "text": [
      "[Parallel(n_jobs=-1)]: Using backend LokyBackend with 8 concurrent workers.\n",
      "[Parallel(n_jobs=-1)]: Done  18 out of  18 | elapsed:    6.9s finished\n"
     ]
    },
    {
     "data": {
      "text/plain": [
       "GridSearchCV(cv=3, error_score=nan,\n",
       "             estimator=LogisticRegression(C=1.0, class_weight=None, dual=False,\n",
       "                                          fit_intercept=True,\n",
       "                                          intercept_scaling=1, l1_ratio=None,\n",
       "                                          max_iter=100, multi_class='auto',\n",
       "                                          n_jobs=None, penalty='l2',\n",
       "                                          random_state=None, solver='lbfgs',\n",
       "                                          tol=0.0001, verbose=0,\n",
       "                                          warm_start=False),\n",
       "             iid='deprecated', n_jobs=-1,\n",
       "             param_grid={'penalty': ['l1', 'l2'],\n",
       "                         'solver': ['saga', 'liblinear', 'lgbfs']},\n",
       "             pre_dispatch='2*n_jobs', refit=True, return_train_score=False,\n",
       "             scoring=None, verbose=True)"
      ]
     },
     "execution_count": 14,
     "metadata": {},
     "output_type": "execute_result"
    }
   ],
   "source": [
    "from sklearn.model_selection import GridSearchCV\n",
    "lr = LogisticRegression()\n",
    "param_grid = {\n",
    "     'penalty' : ['l1', 'l2'],\n",
    "    'solver' : [\"saga\", \"liblinear\", \"lgbfs\"]\n",
    "    }\n",
    "\n",
    "\n",
    "# Create grid search object\n",
    "\n",
    "clf = GridSearchCV(lr, param_grid = param_grid, cv = 3, verbose=True, n_jobs=-1)\n",
    "\n",
    "clf.fit(trainx_cv, Ytrain)"
   ]
  },
  {
   "cell_type": "code",
   "execution_count": 15,
   "metadata": {},
   "outputs": [
    {
     "data": {
      "text/plain": [
       "{'penalty': 'l2', 'solver': 'liblinear'}"
      ]
     },
     "execution_count": 15,
     "metadata": {},
     "output_type": "execute_result"
    }
   ],
   "source": [
    "clf.best_params_"
   ]
  },
  {
   "cell_type": "code",
   "execution_count": 16,
   "metadata": {},
   "outputs": [
    {
     "name": "stdout",
     "output_type": "stream",
     "text": [
      "              precision    recall  f1-score   support\n",
      "\n",
      "           0       0.97      0.95      0.96        60\n",
      "           1       0.34      0.34      0.34        59\n",
      "           2       0.56      0.52      0.54        64\n",
      "           3       0.68      0.60      0.64        72\n",
      "           4       0.23      0.27      0.24        60\n",
      "           5       0.87      0.66      0.75        71\n",
      "           6       0.45      0.40      0.42        62\n",
      "           7       0.60      0.45      0.51        69\n",
      "           8       0.92      0.90      0.91        68\n",
      "           9       0.36      0.48      0.41        52\n",
      "          10       0.73      0.77      0.75        53\n",
      "          11       0.26      0.48      0.34        31\n",
      "\n",
      "    accuracy                           0.57       721\n",
      "   macro avg       0.58      0.57      0.57       721\n",
      "weighted avg       0.60      0.57      0.58       721\n",
      "\n"
     ]
    },
    {
     "data": {
      "text/plain": [
       "0.5742024965325936"
      ]
     },
     "execution_count": 16,
     "metadata": {},
     "output_type": "execute_result"
    }
   ],
   "source": [
    "preds = clf.predict(testx_cv)\n",
    "print(classification_report(preds, Ytest))\n",
    "accuracy_score(Ytest, preds)"
   ]
  },
  {
   "cell_type": "code",
   "execution_count": 23,
   "metadata": {},
   "outputs": [
    {
     "name": "stdout",
     "output_type": "stream",
     "text": [
      "Fitting 3 folds for each of 8 candidates, totalling 24 fits\n"
     ]
    },
    {
     "name": "stderr",
     "output_type": "stream",
     "text": [
      "[Parallel(n_jobs=-1)]: Using backend LokyBackend with 8 concurrent workers.\n",
      "[Parallel(n_jobs=-1)]: Done  24 out of  24 | elapsed:    3.9s finished\n"
     ]
    },
    {
     "data": {
      "text/plain": [
       "GridSearchCV(cv=3, error_score=nan,\n",
       "             estimator=SVC(C=1.0, break_ties=False, cache_size=200,\n",
       "                           class_weight=None, coef0=0.0,\n",
       "                           decision_function_shape='ovr', degree=3,\n",
       "                           gamma='scale', kernel='rbf', max_iter=-1,\n",
       "                           probability=False, random_state=None, shrinking=True,\n",
       "                           tol=0.001, verbose=False),\n",
       "             iid='deprecated', n_jobs=-1,\n",
       "             param_grid={'gamma': ['scale', 'auto'],\n",
       "                         'kernel': ['rbf', 'linear', 'poly', 'sigmoid']},\n",
       "             pre_dispatch='2*n_jobs', refit=True, return_train_score=False,\n",
       "             scoring=None, verbose=True)"
      ]
     },
     "execution_count": 23,
     "metadata": {},
     "output_type": "execute_result"
    }
   ],
   "source": [
    "from sklearn.model_selection import GridSearchCV\n",
    "svc = SVC()\n",
    "param_grid = {\n",
    "     'kernel' : ['rbf', 'linear', 'poly', 'sigmoid'],\n",
    "    'gamma' : [\"scale\", \"auto\"]\n",
    "    }\n",
    "\n",
    "\n",
    "# Create grid search object\n",
    "\n",
    "clf_svc = GridSearchCV(svc, param_grid = param_grid, cv = 3, verbose=True, n_jobs=-1)\n",
    "\n",
    "clf_svc.fit(tf_xtrain_w, Ytrain)"
   ]
  },
  {
   "cell_type": "code",
   "execution_count": 24,
   "metadata": {},
   "outputs": [
    {
     "data": {
      "text/plain": [
       "{'gamma': 'scale', 'kernel': 'linear'}"
      ]
     },
     "execution_count": 24,
     "metadata": {},
     "output_type": "execute_result"
    }
   ],
   "source": [
    "clf_svc.best_params_"
   ]
  },
  {
   "cell_type": "code",
   "execution_count": 25,
   "metadata": {},
   "outputs": [
    {
     "name": "stdout",
     "output_type": "stream",
     "text": [
      "              precision    recall  f1-score   support\n",
      "\n",
      "           0       0.97      0.98      0.97        58\n",
      "           1       0.52      0.32      0.39        95\n",
      "           2       0.53      0.56      0.54        55\n",
      "           3       0.63      0.69      0.66        58\n",
      "           4       0.25      0.23      0.24        78\n",
      "           5       0.74      0.78      0.76        51\n",
      "           6       0.46      0.42      0.44        62\n",
      "           7       0.50      0.51      0.50        51\n",
      "           8       0.92      0.91      0.92        67\n",
      "           9       0.49      0.46      0.48        74\n",
      "          10       0.66      0.93      0.77        40\n",
      "          11       0.33      0.59      0.42        32\n",
      "\n",
      "    accuracy                           0.58       721\n",
      "   macro avg       0.58      0.62      0.59       721\n",
      "weighted avg       0.58      0.58      0.57       721\n",
      "\n"
     ]
    },
    {
     "data": {
      "text/plain": [
       "0.5811373092926491"
      ]
     },
     "execution_count": 25,
     "metadata": {},
     "output_type": "execute_result"
    }
   ],
   "source": [
    "preds = clf_svc.predict(tf_xtest_w)\n",
    "print(classification_report(preds, Ytest))\n",
    "accuracy_score(Ytest, preds)"
   ]
  },
  {
   "cell_type": "code",
   "execution_count": 26,
   "metadata": {},
   "outputs": [
    {
     "name": "stdout",
     "output_type": "stream",
     "text": [
      "              precision    recall  f1-score   support\n",
      "\n",
      "           0       1.00      1.00      1.00       168\n",
      "           1       0.98      0.92      0.95       200\n",
      "           2       0.96      0.96      0.96       184\n",
      "           3       0.99      0.98      0.99       182\n",
      "           4       0.97      0.99      0.98       169\n",
      "           5       0.99      1.00      1.00       186\n",
      "           6       0.97      0.97      0.97       190\n",
      "           7       0.99      0.99      0.99       197\n",
      "           8       1.00      0.97      0.98       190\n",
      "           9       0.98      0.99      0.98       174\n",
      "          10       0.99      1.00      1.00       160\n",
      "          11       0.90      0.99      0.94       160\n",
      "\n",
      "    accuracy                           0.98      2160\n",
      "   macro avg       0.98      0.98      0.98      2160\n",
      "weighted avg       0.98      0.98      0.98      2160\n",
      "\n"
     ]
    },
    {
     "data": {
      "text/plain": [
       "0.9787037037037037"
      ]
     },
     "execution_count": 26,
     "metadata": {},
     "output_type": "execute_result"
    }
   ],
   "source": [
    "preds = clf_svc.predict(tf_xtrain_w)\n",
    "print(classification_report(preds, Ytrain))\n",
    "accuracy_score(Ytrain, preds)"
   ]
  },
  {
   "cell_type": "code",
   "execution_count": 29,
   "metadata": {},
   "outputs": [
    {
     "name": "stdout",
     "output_type": "stream",
     "text": [
      "              precision    recall  f1-score   support\n",
      "\n",
      "           0       0.96      1.00      0.98        26\n",
      "           1       0.86      0.71      0.78        35\n",
      "           2       0.77      0.82      0.79        33\n",
      "           3       0.91      0.94      0.93        34\n",
      "           4       0.74      0.68      0.71        34\n",
      "           5       0.93      0.97      0.95        29\n",
      "           6       0.85      0.80      0.83        41\n",
      "           7       0.93      0.93      0.93        27\n",
      "           8       0.95      0.90      0.93        42\n",
      "           9       0.85      0.72      0.78        40\n",
      "          10       0.90      0.97      0.94        37\n",
      "          11       0.64      0.95      0.76        22\n",
      "\n",
      "    accuracy                           0.86       400\n",
      "   macro avg       0.86      0.87      0.86       400\n",
      "weighted avg       0.86      0.86      0.86       400\n",
      "\n"
     ]
    },
    {
     "data": {
      "text/plain": [
       "0.8575"
      ]
     },
     "execution_count": 29,
     "metadata": {},
     "output_type": "execute_result"
    }
   ],
   "source": [
    "from sklearn.utils import shuffle\n",
    "\n",
    "test = shuffle(df).iloc[:400, :]\n",
    "\n",
    "X = test[\"corpus\"]\n",
    "Y = test[\"flair\"]\n",
    "\n",
    "test_labels = label_encoder.transform(Y)\n",
    "\n",
    "testdata = tfidf_vect.transform(X)\n",
    "\n",
    "preds = clf_svc.predict(testdata)\n",
    "print(classification_report(preds, test_labels))\n",
    "accuracy_score(test_labels, preds)"
   ]
  },
  {
   "cell_type": "code",
   "execution_count": 36,
   "metadata": {},
   "outputs": [
    {
     "name": "stdout",
     "output_type": "stream",
     "text": [
      "Label Meanings:\n",
      "0 : AMA\n",
      "1 : AskIndia\n",
      "2 : Business/Finance\n",
      "3 : Food\n",
      "4 : Non-Political\n",
      "5 : Photography\n",
      "6 : Policy/Economy\n",
      "7 : Politics\n",
      "8 : Scheduled\n",
      "9 : Science/Technology\n",
      "10 : Sports\n",
      "11 : [R]eddiquette\n"
     ]
    }
   ],
   "source": [
    "print(\"Label Meanings:\")\n",
    "for i in range(0, 12):\n",
    "    print(i, \": \"+label_encoder.inverse_transform([i])[0])"
   ]
  },
  {
   "cell_type": "code",
   "execution_count": 30,
   "metadata": {},
   "outputs": [],
   "source": [
    "pickle.dump(clf_svc, open(\"classifier.pkl\", \"wb\"))\n",
    "pickle.dump(label_encoder, open(\"label_encoder.pkl\", \"wb\"))\n",
    "pickle.dump(count_vect, open(\"count_vectorizer.pkl\", \"wb\"))\n",
    "pickle.dump(tfidf_vect, open(\"tfidf_vectorizer.pkl\", \"wb\"))"
   ]
  }
 ],
 "metadata": {
  "kernelspec": {
   "display_name": "Python 3",
   "language": "python",
   "name": "python3"
  },
  "language_info": {
   "codemirror_mode": {
    "name": "ipython",
    "version": 3
   },
   "file_extension": ".py",
   "mimetype": "text/x-python",
   "name": "python",
   "nbconvert_exporter": "python",
   "pygments_lexer": "ipython3",
   "version": "3.7.0"
  }
 },
 "nbformat": 4,
 "nbformat_minor": 2
}
